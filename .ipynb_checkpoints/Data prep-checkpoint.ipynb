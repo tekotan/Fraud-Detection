{
 "cells": [
  {
   "cell_type": "code",
   "execution_count": 21,
   "metadata": {},
   "outputs": [],
   "source": [
    "import numpy as np\n",
    "import pandas as pd\n",
    "import tqdm\n",
    "import math"
   ]
  },
  {
   "cell_type": "code",
   "execution_count": 4,
   "metadata": {},
   "outputs": [],
   "source": [
    "df = pd.read_csv(\"./de/full_data/dataset.csv\")"
   ]
  },
  {
   "cell_type": "code",
   "execution_count": 42,
   "metadata": {},
   "outputs": [
    {
     "data": {
      "text/plain": [
       "Index(['Unnamed: 0', 'locat', 'price', 'paycode', 'make', 'oost', 'mpt', 'mvi',\n",
       "       'split_pay_amt', 'split_pay_code', 'depositnum', 'workdaynum',\n",
       "       'manual_entry', 'earlybird', 'correctedpayment', 'rateid', 'lane',\n",
       "       'facility', 'extralng1', 'extracur1', 'extrastr1', 'freespot',\n",
       "       'converted', 'vehiclemodel', 'nightmonthly', 'originalprice',\n",
       "       'mpsreplacement ', 'ccdaccount', 'ccdexpdate', 'ccdmanualentry',\n",
       "       'previouspayments', 'prepayamount', 'prepaycode', 'shiftid',\n",
       "       'thepricewascorrected', 'checkinws', 'checkoutws', 'oldpaycode',\n",
       "       'correctiontime', 'splitpayment', 'hasrefund', 'refundamnt',\n",
       "       'receiptsprinted', 'rushmode', 'ratedescription', 'eventratemode',\n",
       "       'paymentdescription', 'facilitysection', 'facilitylocation', 'exitused',\n",
       "       'prepayversion', 'uptohours', 'pdamount', 'oversizeamount',\n",
       "       'ppccreader', 'coupontype', 'couponvalue', 'stickernumber',\n",
       "       'checkincard', 'checkoutcard', 'prepayccdaccount', 'changedue',\n",
       "       'taxrate', 'firstcalculatedprice', 'holiday'],\n",
       "      dtype='object')"
      ]
     },
     "execution_count": 42,
     "metadata": {},
     "output_type": "execute_result"
    }
   ],
   "source": [
    "df.keys()"
   ]
  },
  {
   "cell_type": "code",
   "execution_count": 45,
   "metadata": {},
   "outputs": [
    {
     "data": {
      "text/plain": [
       "array([0, 705, 0.0, 9, 'BMW', 0, nan, nan, 0.0, nan, 1, 155, 0, 0, 0, 0,\n",
       "       0, 0, 0, 0.0, nan, 0, 0, 4, 0, 0.0, nan, '    ', '    ', 0, 0.0,\n",
       "       0.0, nan, 4254, 0, 12, 12, nan, nan, 0, 0, 0.0, 0, 0, nan, 0,\n",
       "       'Monthly', '  ', '    ', ' ', nan, '     ', 0.0, 0.0, 0, nan, nan,\n",
       "       '20', 'CheckinCheckout', 'POS012 ', ' ', 0.0, 18.375, 0.0, 0],\n",
       "      dtype=object)"
      ]
     },
     "execution_count": 45,
     "metadata": {},
     "output_type": "execute_result"
    }
   ],
   "source": [
    "df.values[0, :]"
   ]
  },
  {
   "cell_type": "code",
   "execution_count": 51,
   "metadata": {},
   "outputs": [],
   "source": [
    "string_index=[]\n",
    "for n, i in enumerate(df.values[0, :]):\n",
    "    if isinstance(i, float) or isinstance(i, int):\n",
    "        pass\n",
    "    else:\n",
    "        string_index.append(n)"
   ]
  },
  {
   "cell_type": "code",
   "execution_count": 52,
   "metadata": {},
   "outputs": [
    {
     "data": {
      "text/plain": [
       "[4, 27, 28, 46, 47, 48, 49, 51, 57, 58, 59, 60]"
      ]
     },
     "execution_count": 52,
     "metadata": {},
     "output_type": "execute_result"
    }
   ],
   "source": [
    "string_index"
   ]
  },
  {
   "cell_type": "code",
   "execution_count": 53,
   "metadata": {},
   "outputs": [
    {
     "data": {
      "text/plain": [
       "array(['BMW', 'Jeep', 'Benz', ..., 'Toyota', 'Benz', 'Jeep'], dtype=object)"
      ]
     },
     "execution_count": 53,
     "metadata": {},
     "output_type": "execute_result"
    }
   ],
   "source": [
    "df.values[:, 4]"
   ]
  },
  {
   "cell_type": "code",
   "execution_count": 54,
   "metadata": {},
   "outputs": [],
   "source": [
    "li = []\n",
    "for val in df.values[:, 4]:\n",
    "    if val not in li:\n",
    "        li.append(val)\n",
    "    else:\n",
    "        pass"
   ]
  },
  {
   "cell_type": "code",
   "execution_count": 55,
   "metadata": {},
   "outputs": [
    {
     "data": {
      "text/plain": [
       "['BMW',\n",
       " 'Jeep',\n",
       " 'Benz',\n",
       " 'Chrys',\n",
       " 'Ford',\n",
       " 'Honda',\n",
       " 'Audi',\n",
       " 'Lexus',\n",
       " 'Toyota',\n",
       " 'Chevy',\n",
       " 'Mazda',\n",
       " 'Infini',\n",
       " 'Tesla',\n",
       " 'Volvo',\n",
       " 'Other',\n",
       " 'Nissan',\n",
       " 'Buick',\n",
       " 'Hyundai',\n",
       " 'Caddy',\n",
       " 'Kia',\n",
       " 'Subaru',\n",
       " 'Merc',\n",
       " 'Dodge',\n",
       " 'Volks',\n",
       " 'Lincoln',\n",
       " 'Acura',\n",
       " 'Mini Coope',\n",
       " 'Porsche',\n",
       " 'Mitsu',\n",
       " 'Rover',\n",
       " 'Gmc',\n",
       " 'Smart',\n",
       " 'Jaguar',\n",
       " 'Fiat',\n",
       " 'Scion',\n",
       " 'Oversize',\n",
       " 'Saturn',\n",
       " 'Bentley',\n",
       " 'Pontiac',\n",
       " 'Suzuki',\n",
       " 'Saab',\n",
       " 'Maserati',\n",
       " 'Ferrari',\n",
       " 'Truck',\n",
       " 'Olds',\n",
       " 'Bicycle',\n",
       " 'Rolls',\n",
       " 'Alfa Romeo',\n",
       " 'Isuzu',\n",
       " 'Motorcycle',\n",
       " 'Superovers',\n",
       " 'Cycle',\n",
       " 'Plym',\n",
       " 'Hummer',\n",
       " 'SUV',\n",
       " 'Geo',\n",
       " nan,\n",
       " 'Maybach',\n",
       " 'Lamborghin',\n",
       " 'Aston Mart']"
      ]
     },
     "execution_count": 55,
     "metadata": {},
     "output_type": "execute_result"
    }
   ],
   "source": [
    "li"
   ]
  },
  {
   "cell_type": "code",
   "execution_count": 60,
   "metadata": {},
   "outputs": [],
   "source": [
    "onehot_index_4=['Acura',\n",
    "'Alfa Romeo',\n",
    "'Aston Mart'\n",
    "'Audi',\n",
    "'BMW',\n",
    "'Bentley',\n",
    "'Benz',\n",
    "'Bicycle',\n",
    "'Buick',\n",
    "'Caddy',\n",
    "'Chevy',\n",
    "'Chrys',\n",
    "'Cycle',\n",
    "'Dodge',\n",
    "'Ferrari',\n",
    "'Fiat',\n",
    "'Ford',\n",
    "'Geo',\n",
    "'Gmc',\n",
    "'Honda',\n",
    "'Hummer',\n",
    "'Hyundai',\n",
    "'Infini',\n",
    "'Isuzu',\n",
    "'Jaguar',\n",
    "'Jeep',\n",
    "'Kia',\n",
    "'Lamborghin',\n",
    "'Lexus',\n",
    "'Lincoln',\n",
    "'Maserati',\n",
    "'Maybach',\n",
    "'Mazda',\n",
    "'Merc',\n",
    "'Mini Coope',\n",
    "'Mitsu',\n",
    "'Motorcycle',\n",
    "'Nissan',\n",
    "'Olds',\n",
    "'Other',\n",
    "'Oversize',\n",
    "'Plym',\n",
    "'Pontiac',\n",
    "'Porsche',\n",
    "'Rolls',\n",
    "'Rover',\n",
    "'SUV',\n",
    "'Saab',\n",
    "'Saturn',\n",
    "'Scion',\n",
    "'Smart',\n",
    "'Subaru',\n",
    "'Superovers',\n",
    "'Suzuki',\n",
    "'Tesla',\n",
    "'Toyota',\n",
    "'Truck',\n",
    "'Volks',\n",
    "'Volvo',\n",
    "nan]"
   ]
  },
  {
   "cell_type": "code",
   "execution_count": 61,
   "metadata": {},
   "outputs": [],
   "source": [
    "nan=li[-4]"
   ]
  },
  {
   "cell_type": "code",
   "execution_count": null,
   "metadata": {},
   "outputs": [],
   "source": []
  }
 ],
 "metadata": {
  "kernelspec": {
   "display_name": "Python 3",
   "language": "python",
   "name": "python3"
  },
  "language_info": {
   "codemirror_mode": {
    "name": "ipython",
    "version": 3
   },
   "file_extension": ".py",
   "mimetype": "text/x-python",
   "name": "python",
   "nbconvert_exporter": "python",
   "pygments_lexer": "ipython3",
   "version": "3.6.2"
  }
 },
 "nbformat": 4,
 "nbformat_minor": 2
}
